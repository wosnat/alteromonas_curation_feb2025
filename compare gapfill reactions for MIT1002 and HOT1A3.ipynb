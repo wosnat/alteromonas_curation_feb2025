{
 "cells": [
  {
   "cell_type": "code",
   "execution_count": 1,
   "id": "fb71887d-0e8e-4633-a341-3b13a9d8a628",
   "metadata": {},
   "outputs": [],
   "source": [
    "import pandas as pd\n",
    "import numpy as np\n",
    "import matplotlib.pyplot as plt \n",
    "import seaborn as sns"
   ]
  },
  {
   "cell_type": "code",
   "execution_count": 3,
   "id": "c11b36e9-7ed2-4617-9bda-c5c1dd1f04cf",
   "metadata": {},
   "outputs": [
    {
     "data": {
      "text/plain": [
       "['.ipynb_checkpoints',\n",
       " 'create merged reactions and eggnog file.ipynb',\n",
       " 'data',\n",
       " 'growth_phenotypes.ipynb',\n",
       " 'HOT1A3_GF_glc_min_reactions_with_eggnog.xlsx',\n",
       " 'HOT1A3_reactions_gapfill_LB_MIN_GLC_with_eggnog.xlsx']"
      ]
     },
     "execution_count": 3,
     "metadata": {},
     "output_type": "execute_result"
    }
   ],
   "source": [
    "import os\n",
    "os.listdir('HOT1A3')"
   ]
  },
  {
   "cell_type": "code",
   "execution_count": null,
   "id": "06429235-dc38-4e2b-9be5-31031cee7c1e",
   "metadata": {},
   "outputs": [],
   "source": [
    "df_1a3 = "
   ]
  }
 ],
 "metadata": {
  "kernelspec": {
   "display_name": "Python 3 (ipykernel)",
   "language": "python",
   "name": "python3"
  },
  "language_info": {
   "codemirror_mode": {
    "name": "ipython",
    "version": 3
   },
   "file_extension": ".py",
   "mimetype": "text/x-python",
   "name": "python",
   "nbconvert_exporter": "python",
   "pygments_lexer": "ipython3",
   "version": "3.11.7"
  }
 },
 "nbformat": 4,
 "nbformat_minor": 5
}
